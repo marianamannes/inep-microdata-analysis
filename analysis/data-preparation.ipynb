{
 "cells": [
  {
   "cell_type": "markdown",
   "id": "de011324",
   "metadata": {},
   "source": [
    "# Data Preparation"
   ]
  },
  {
   "cell_type": "markdown",
   "id": "0319d0ae",
   "metadata": {},
   "source": [
    "> *The purpose of this step is to 'clean' the dataset. Thus, it will make further analyzes easier and remove possible problems from the dataset, such as incorrect or incomplete data.*"
   ]
  },
  {
   "cell_type": "code",
   "execution_count": 1,
   "id": "131a20e6",
   "metadata": {},
   "outputs": [],
   "source": [
    "# Importing libraries.\n",
    "\n",
    "import pandas as pd\n",
    "import numpy as np"
   ]
  },
  {
   "cell_type": "code",
   "execution_count": 2,
   "id": "29d36b98",
   "metadata": {
    "scrolled": false
   },
   "outputs": [],
   "source": [
    "# Loading data from csv files.\n",
    "\n",
    "microdata = pd.read_csv('database/MICRODADOS_ENEM_2021.csv', \n",
    "                        sep = ';', \n",
    "                        encoding='latin-1')"
   ]
  },
  {
   "cell_type": "code",
   "execution_count": 3,
   "id": "f8aba570",
   "metadata": {},
   "outputs": [
    {
     "name": "stdout",
     "output_type": "stream",
     "text": [
      "The dataset has 3389832 rows and 76 columns\n"
     ]
    }
   ],
   "source": [
    "# Printing the size of the dataset.\n",
    "\n",
    "print(f'The dataset has {microdata.shape[0]} rows and {microdata.shape[1]} columns')"
   ]
  },
  {
   "cell_type": "code",
   "execution_count": 4,
   "id": "d7ce745d",
   "metadata": {},
   "outputs": [],
   "source": [
    "# Selecting the most interesting columns for the analysis.\n",
    "\n",
    "interesting_columns = ['TP_FAIXA_ETARIA',\n",
    "                       'TP_SEXO',\n",
    "                       'TP_ESCOLA',\n",
    "                       'NO_MUNICIPIO_PROVA',\n",
    "                       'SG_UF_PROVA',\n",
    "                       'NU_NOTA_CN',\n",
    "                       'NU_NOTA_CH',\n",
    "                       'NU_NOTA_LC',\n",
    "                       'NU_NOTA_MT',\n",
    "                       'NU_NOTA_REDACAO',\n",
    "                       'Q006']\n",
    "\n",
    "microdata = pd.DataFrame(microdata, \n",
    "                         columns = interesting_columns)"
   ]
  },
  {
   "cell_type": "code",
   "execution_count": 5,
   "id": "82873ca6",
   "metadata": {},
   "outputs": [
    {
     "name": "stdout",
     "output_type": "stream",
     "text": [
      "The database has 3389832 rows and 11 columns\n"
     ]
    }
   ],
   "source": [
    "# Printing the new size of the dataset.\n",
    "\n",
    "print(f'The database has {microdata.shape[0]} rows and {microdata.shape[1]} columns')"
   ]
  },
  {
   "cell_type": "code",
   "execution_count": 6,
   "id": "fc240ecf",
   "metadata": {},
   "outputs": [
    {
     "data": {
      "text/html": [
       "<div>\n",
       "<style scoped>\n",
       "    .dataframe tbody tr th:only-of-type {\n",
       "        vertical-align: middle;\n",
       "    }\n",
       "\n",
       "    .dataframe tbody tr th {\n",
       "        vertical-align: top;\n",
       "    }\n",
       "\n",
       "    .dataframe thead th {\n",
       "        text-align: right;\n",
       "    }\n",
       "</style>\n",
       "<table border=\"1\" class=\"dataframe\">\n",
       "  <thead>\n",
       "    <tr style=\"text-align: right;\">\n",
       "      <th></th>\n",
       "      <th>TP_FAIXA_ETARIA</th>\n",
       "      <th>TP_SEXO</th>\n",
       "      <th>TP_ESCOLA</th>\n",
       "      <th>NO_MUNICIPIO_PROVA</th>\n",
       "      <th>SG_UF_PROVA</th>\n",
       "      <th>NU_NOTA_CN</th>\n",
       "      <th>NU_NOTA_CH</th>\n",
       "      <th>NU_NOTA_LC</th>\n",
       "      <th>NU_NOTA_MT</th>\n",
       "      <th>NU_NOTA_REDACAO</th>\n",
       "      <th>Q006</th>\n",
       "    </tr>\n",
       "  </thead>\n",
       "  <tbody>\n",
       "    <tr>\n",
       "      <th>0</th>\n",
       "      <td>5</td>\n",
       "      <td>F</td>\n",
       "      <td>1</td>\n",
       "      <td>Nova Lima</td>\n",
       "      <td>MG</td>\n",
       "      <td>NaN</td>\n",
       "      <td>574.6</td>\n",
       "      <td>472.6</td>\n",
       "      <td>NaN</td>\n",
       "      <td>760.0</td>\n",
       "      <td>D</td>\n",
       "    </tr>\n",
       "    <tr>\n",
       "      <th>1</th>\n",
       "      <td>12</td>\n",
       "      <td>M</td>\n",
       "      <td>1</td>\n",
       "      <td>Maceió</td>\n",
       "      <td>AL</td>\n",
       "      <td>505.9</td>\n",
       "      <td>551.8</td>\n",
       "      <td>498.3</td>\n",
       "      <td>461.5</td>\n",
       "      <td>560.0</td>\n",
       "      <td>B</td>\n",
       "    </tr>\n",
       "    <tr>\n",
       "      <th>2</th>\n",
       "      <td>13</td>\n",
       "      <td>F</td>\n",
       "      <td>1</td>\n",
       "      <td>Ferraz de Vasconcelos</td>\n",
       "      <td>SP</td>\n",
       "      <td>NaN</td>\n",
       "      <td>NaN</td>\n",
       "      <td>NaN</td>\n",
       "      <td>NaN</td>\n",
       "      <td>NaN</td>\n",
       "      <td>C</td>\n",
       "    </tr>\n",
       "    <tr>\n",
       "      <th>3</th>\n",
       "      <td>3</td>\n",
       "      <td>M</td>\n",
       "      <td>2</td>\n",
       "      <td>Crato</td>\n",
       "      <td>CE</td>\n",
       "      <td>580.7</td>\n",
       "      <td>678.9</td>\n",
       "      <td>638.9</td>\n",
       "      <td>659.5</td>\n",
       "      <td>780.0</td>\n",
       "      <td>B</td>\n",
       "    </tr>\n",
       "    <tr>\n",
       "      <th>4</th>\n",
       "      <td>2</td>\n",
       "      <td>F</td>\n",
       "      <td>2</td>\n",
       "      <td>Acarape</td>\n",
       "      <td>CE</td>\n",
       "      <td>497.7</td>\n",
       "      <td>532.4</td>\n",
       "      <td>457.6</td>\n",
       "      <td>582.6</td>\n",
       "      <td>780.0</td>\n",
       "      <td>C</td>\n",
       "    </tr>\n",
       "  </tbody>\n",
       "</table>\n",
       "</div>"
      ],
      "text/plain": [
       "   TP_FAIXA_ETARIA TP_SEXO  TP_ESCOLA     NO_MUNICIPIO_PROVA SG_UF_PROVA  \\\n",
       "0                5       F          1              Nova Lima          MG   \n",
       "1               12       M          1                 Maceió          AL   \n",
       "2               13       F          1  Ferraz de Vasconcelos          SP   \n",
       "3                3       M          2                  Crato          CE   \n",
       "4                2       F          2                Acarape          CE   \n",
       "\n",
       "   NU_NOTA_CN  NU_NOTA_CH  NU_NOTA_LC  NU_NOTA_MT  NU_NOTA_REDACAO Q006  \n",
       "0         NaN       574.6       472.6         NaN            760.0    D  \n",
       "1       505.9       551.8       498.3       461.5            560.0    B  \n",
       "2         NaN         NaN         NaN         NaN              NaN    C  \n",
       "3       580.7       678.9       638.9       659.5            780.0    B  \n",
       "4       497.7       532.4       457.6       582.6            780.0    C  "
      ]
     },
     "execution_count": 6,
     "metadata": {},
     "output_type": "execute_result"
    }
   ],
   "source": [
    "# Printing the five first rows of the dataset.\n",
    "\n",
    "microdata.head(5)"
   ]
  },
  {
   "cell_type": "code",
   "execution_count": 7,
   "id": "a4732f44",
   "metadata": {
    "scrolled": true
   },
   "outputs": [
    {
     "data": {
      "text/plain": [
       "TP_FAIXA_ETARIA             0\n",
       "TP_SEXO                     0\n",
       "TP_ESCOLA                   0\n",
       "NO_MUNICIPIO_PROVA          0\n",
       "SG_UF_PROVA                 0\n",
       "NU_NOTA_CN            1143988\n",
       "NU_NOTA_CH            1011453\n",
       "NU_NOTA_LC            1011453\n",
       "NU_NOTA_MT            1143988\n",
       "NU_NOTA_REDACAO       1011453\n",
       "Q006                        2\n",
       "dtype: int64"
      ]
     },
     "execution_count": 7,
     "metadata": {},
     "output_type": "execute_result"
    }
   ],
   "source": [
    "# Looking for null values.\n",
    "\n",
    "microdata.isnull().sum()"
   ]
  },
  {
   "cell_type": "code",
   "execution_count": 8,
   "id": "627bdd62",
   "metadata": {},
   "outputs": [],
   "source": [
    "# Looking for grades with \"0\" score.\n",
    "\n",
    "microdata['NU_NOTA_CN'].replace(0, np.nan, inplace = True)\n",
    "microdata['NU_NOTA_CH'].replace(0, np.nan, inplace = True)\n",
    "microdata['NU_NOTA_LC'].replace(0, np.nan, inplace = True)\n",
    "microdata['NU_NOTA_MT'].replace(0, np.nan, inplace = True)\n",
    "microdata['NU_NOTA_REDACAO'].replace(0, np.nan, inplace = True)"
   ]
  },
  {
   "cell_type": "code",
   "execution_count": 9,
   "id": "ac543649",
   "metadata": {},
   "outputs": [],
   "source": [
    "# Removing null values.\n",
    "\n",
    "microdata.dropna(axis = 0, \n",
    "                 inplace = True)"
   ]
  },
  {
   "cell_type": "code",
   "execution_count": 10,
   "id": "2b9848cb",
   "metadata": {},
   "outputs": [
    {
     "data": {
      "text/plain": [
       "TP_FAIXA_ETARIA       0\n",
       "TP_SEXO               0\n",
       "TP_ESCOLA             0\n",
       "NO_MUNICIPIO_PROVA    0\n",
       "SG_UF_PROVA           0\n",
       "NU_NOTA_CN            0\n",
       "NU_NOTA_CH            0\n",
       "NU_NOTA_LC            0\n",
       "NU_NOTA_MT            0\n",
       "NU_NOTA_REDACAO       0\n",
       "Q006                  0\n",
       "dtype: int64"
      ]
     },
     "execution_count": 10,
     "metadata": {},
     "output_type": "execute_result"
    }
   ],
   "source": [
    "# Looking for null values again.\n",
    "\n",
    "microdata.isnull().sum()"
   ]
  },
  {
   "cell_type": "code",
   "execution_count": 11,
   "id": "bf0403bf",
   "metadata": {},
   "outputs": [],
   "source": [
    "# Reseting the index of the dataset.\n",
    "\n",
    "microdata.reset_index(inplace = True, \n",
    "                      drop = True)"
   ]
  },
  {
   "cell_type": "code",
   "execution_count": 12,
   "id": "73df51b4",
   "metadata": {},
   "outputs": [],
   "source": [
    "# Replacing coded values in the 'age' column.\n",
    "\n",
    "microdata.replace({'TP_FAIXA_ETARIA': {1: 'Under 20' ,\n",
    "                                       2: 'Under 20',\n",
    "                                       3: 'Under 20',\n",
    "                                       4: 'Under 20',\n",
    "                                       5: 'Between 20 and 30',\n",
    "                                       6: 'Between 20 and 30',\n",
    "                                       7: 'Between 20 and 30',\n",
    "                                       8: 'Between 20 and 30',\n",
    "                                       9: 'Between 20 and 30',\n",
    "                                       10: 'Between 20 and 30',\n",
    "                                       11: 'Between 20 and 30',\n",
    "                                       12: 'Between 31 and 40',\n",
    "                                       13: 'Between 31 and 40',\n",
    "                                       14: 'Between 41 and 50',\n",
    "                                       15: 'Between 41 and 50',\n",
    "                                       16: 'Between 51 and 60',\n",
    "                                       17: 'Between 51 and 60',\n",
    "                                       18: 'Over 61',\n",
    "                                       19: 'Over 61',\n",
    "                                       20: 'Over 61'}}, \n",
    "                  inplace = True)"
   ]
  },
  {
   "cell_type": "code",
   "execution_count": 13,
   "id": "2eaee212",
   "metadata": {},
   "outputs": [],
   "source": [
    "# Replacing coded values in the 'school' column.\n",
    "\n",
    "microdata.replace({'TP_ESCOLA': {1: 'Did not answer',\n",
    "                                  2: 'Public',\n",
    "                                  3: 'Private'}},\n",
    "                 inplace = True)"
   ]
  },
  {
   "cell_type": "code",
   "execution_count": 14,
   "id": "65faa0ec",
   "metadata": {},
   "outputs": [],
   "source": [
    "# Replacing coded values in the 'income' column.\n",
    "\n",
    "microdata.replace({'Q006': {'A': 'No income',\n",
    "                            'B': 'Up to 1 minimum wage',\n",
    "                            'C': 'Between 1 and 5 minimum wages',\n",
    "                            'D': 'Between 1 and 5 minimum wages',\n",
    "                            'E': 'Between 1 and 5 minimum wages',\n",
    "                            'F': 'Between 1 and 5 minimum wages',\n",
    "                            'G': 'Between 1 and 5 minimum wages',\n",
    "                            'H': 'Between 1 and 5 minimum wages',\n",
    "                            'I': 'Between 6 and 10 minimum wages',\n",
    "                            'J': 'Between 6 and 10 minimum wages',\n",
    "                            'K': 'Between 6 and 10 minimum wages',\n",
    "                            'L': 'Between 6 and 10 minimum wages',\n",
    "                            'M': 'Between 6 and 10 minimum wages',\n",
    "                            'N': 'Over 11 minimum wages',\n",
    "                            'O': 'Over 11 minimum wages',\n",
    "                            'P': 'Over 11 minimum wages',\n",
    "                            'Q': 'Over 11 minimum wages'}},\n",
    "                 inplace = True)"
   ]
  },
  {
   "cell_type": "code",
   "execution_count": 15,
   "id": "d51399e1",
   "metadata": {},
   "outputs": [],
   "source": [
    "# Renaming the columns.\n",
    "\n",
    "microdata.rename(columns={'TP_FAIXA_ETARIA': 'age',\n",
    "                          'TP_SEXO': 'gender',\n",
    "                          'TP_ESCOLA': 'school',\n",
    "                          'NO_MUNICIPIO_PROVA': 'city',\n",
    "                          'SG_UF_PROVA': 'state',\n",
    "                          'NU_NOTA_CN': 'natural_sciences_grade',\n",
    "                          'NU_NOTA_CH': 'human_sciences_grade',\n",
    "                          'NU_NOTA_LC': 'languages_grade',\n",
    "                          'NU_NOTA_MT': 'mathematics_grade',\n",
    "                          'NU_NOTA_REDACAO': 'essay_grade',\n",
    "                          'Q006': 'income'\n",
    "                          },\n",
    "                inplace = True)"
   ]
  },
  {
   "cell_type": "code",
   "execution_count": 16,
   "id": "34820a30",
   "metadata": {},
   "outputs": [
    {
     "data": {
      "text/plain": [
       "age                        object\n",
       "gender                     object\n",
       "school                     object\n",
       "city                       object\n",
       "state                      object\n",
       "natural_sciences_grade    float64\n",
       "human_sciences_grade      float64\n",
       "languages_grade           float64\n",
       "mathematics_grade         float64\n",
       "essay_grade               float64\n",
       "income                     object\n",
       "dtype: object"
      ]
     },
     "execution_count": 16,
     "metadata": {},
     "output_type": "execute_result"
    }
   ],
   "source": [
    "# Verifying the columns types.\n",
    "\n",
    "microdata.dtypes"
   ]
  },
  {
   "cell_type": "code",
   "execution_count": 17,
   "id": "559a4e8a",
   "metadata": {},
   "outputs": [],
   "source": [
    "# Creating a new column for the final grade.\n",
    "\n",
    "microdata['final_grade'] = (microdata['natural_sciences_grade'] + microdata['human_sciences_grade'] + microdata['languages_grade'] + microdata['mathematics_grade'] + microdata['essay_grade'])/5"
   ]
  },
  {
   "cell_type": "code",
   "execution_count": 18,
   "id": "c08f5245",
   "metadata": {},
   "outputs": [
    {
     "data": {
      "text/html": [
       "<div>\n",
       "<style scoped>\n",
       "    .dataframe tbody tr th:only-of-type {\n",
       "        vertical-align: middle;\n",
       "    }\n",
       "\n",
       "    .dataframe tbody tr th {\n",
       "        vertical-align: top;\n",
       "    }\n",
       "\n",
       "    .dataframe thead th {\n",
       "        text-align: right;\n",
       "    }\n",
       "</style>\n",
       "<table border=\"1\" class=\"dataframe\">\n",
       "  <thead>\n",
       "    <tr style=\"text-align: right;\">\n",
       "      <th></th>\n",
       "      <th>age</th>\n",
       "      <th>gender</th>\n",
       "      <th>school</th>\n",
       "      <th>city</th>\n",
       "      <th>state</th>\n",
       "      <th>natural_sciences_grade</th>\n",
       "      <th>human_sciences_grade</th>\n",
       "      <th>languages_grade</th>\n",
       "      <th>mathematics_grade</th>\n",
       "      <th>essay_grade</th>\n",
       "      <th>income</th>\n",
       "      <th>final_grade</th>\n",
       "    </tr>\n",
       "  </thead>\n",
       "  <tbody>\n",
       "    <tr>\n",
       "      <th>0</th>\n",
       "      <td>Between 31 and 40</td>\n",
       "      <td>M</td>\n",
       "      <td>Did not answer</td>\n",
       "      <td>Maceió</td>\n",
       "      <td>AL</td>\n",
       "      <td>505.9</td>\n",
       "      <td>551.8</td>\n",
       "      <td>498.3</td>\n",
       "      <td>461.5</td>\n",
       "      <td>560.0</td>\n",
       "      <td>Up to 1 minimum wage</td>\n",
       "      <td>515.50</td>\n",
       "    </tr>\n",
       "    <tr>\n",
       "      <th>1</th>\n",
       "      <td>Under 20</td>\n",
       "      <td>M</td>\n",
       "      <td>Public</td>\n",
       "      <td>Crato</td>\n",
       "      <td>CE</td>\n",
       "      <td>580.7</td>\n",
       "      <td>678.9</td>\n",
       "      <td>638.9</td>\n",
       "      <td>659.5</td>\n",
       "      <td>780.0</td>\n",
       "      <td>Up to 1 minimum wage</td>\n",
       "      <td>667.60</td>\n",
       "    </tr>\n",
       "    <tr>\n",
       "      <th>2</th>\n",
       "      <td>Under 20</td>\n",
       "      <td>F</td>\n",
       "      <td>Public</td>\n",
       "      <td>Acarape</td>\n",
       "      <td>CE</td>\n",
       "      <td>497.7</td>\n",
       "      <td>532.4</td>\n",
       "      <td>457.6</td>\n",
       "      <td>582.6</td>\n",
       "      <td>780.0</td>\n",
       "      <td>Between 1 and 5 minimum wages</td>\n",
       "      <td>570.06</td>\n",
       "    </tr>\n",
       "    <tr>\n",
       "      <th>3</th>\n",
       "      <td>Between 20 and 30</td>\n",
       "      <td>F</td>\n",
       "      <td>Public</td>\n",
       "      <td>Belo Horizonte</td>\n",
       "      <td>MG</td>\n",
       "      <td>487.4</td>\n",
       "      <td>476.5</td>\n",
       "      <td>450.7</td>\n",
       "      <td>493.4</td>\n",
       "      <td>520.0</td>\n",
       "      <td>Up to 1 minimum wage</td>\n",
       "      <td>485.60</td>\n",
       "    </tr>\n",
       "    <tr>\n",
       "      <th>4</th>\n",
       "      <td>Under 20</td>\n",
       "      <td>F</td>\n",
       "      <td>Public</td>\n",
       "      <td>Ruy Barbosa</td>\n",
       "      <td>BA</td>\n",
       "      <td>507.6</td>\n",
       "      <td>539.2</td>\n",
       "      <td>494.6</td>\n",
       "      <td>413.3</td>\n",
       "      <td>380.0</td>\n",
       "      <td>Up to 1 minimum wage</td>\n",
       "      <td>466.94</td>\n",
       "    </tr>\n",
       "  </tbody>\n",
       "</table>\n",
       "</div>"
      ],
      "text/plain": [
       "                 age gender          school            city state  \\\n",
       "0  Between 31 and 40      M  Did not answer          Maceió    AL   \n",
       "1           Under 20      M          Public           Crato    CE   \n",
       "2           Under 20      F          Public         Acarape    CE   \n",
       "3  Between 20 and 30      F          Public  Belo Horizonte    MG   \n",
       "4           Under 20      F          Public     Ruy Barbosa    BA   \n",
       "\n",
       "   natural_sciences_grade  human_sciences_grade  languages_grade  \\\n",
       "0                   505.9                 551.8            498.3   \n",
       "1                   580.7                 678.9            638.9   \n",
       "2                   497.7                 532.4            457.6   \n",
       "3                   487.4                 476.5            450.7   \n",
       "4                   507.6                 539.2            494.6   \n",
       "\n",
       "   mathematics_grade  essay_grade                         income  final_grade  \n",
       "0              461.5        560.0           Up to 1 minimum wage       515.50  \n",
       "1              659.5        780.0           Up to 1 minimum wage       667.60  \n",
       "2              582.6        780.0  Between 1 and 5 minimum wages       570.06  \n",
       "3              493.4        520.0           Up to 1 minimum wage       485.60  \n",
       "4              413.3        380.0           Up to 1 minimum wage       466.94  "
      ]
     },
     "execution_count": 18,
     "metadata": {},
     "output_type": "execute_result"
    }
   ],
   "source": [
    "# Printing the first rows of the final dataset.\n",
    "\n",
    "microdata.head(5)"
   ]
  },
  {
   "cell_type": "code",
   "execution_count": 19,
   "id": "bc8c2daf",
   "metadata": {
    "scrolled": true
   },
   "outputs": [
    {
     "name": "stdout",
     "output_type": "stream",
     "text": [
      "The database has 2173531 rows and 12 columns\n"
     ]
    }
   ],
   "source": [
    "# Printing the final size of the dataset.\n",
    "\n",
    "print(f'The database has {microdata.shape[0]} rows and {microdata.shape[1]} columns')"
   ]
  },
  {
   "cell_type": "code",
   "execution_count": 20,
   "id": "163e08c3",
   "metadata": {},
   "outputs": [],
   "source": [
    "# Creating a new csv with the clean dataset.\n",
    "\n",
    "microdata.to_csv('database/MICRODADOS_ENEM_2021_v2.csv', sep = ';', encoding='latin-1')"
   ]
  }
 ],
 "metadata": {
  "kernelspec": {
   "display_name": "Python 3 (ipykernel)",
   "language": "python",
   "name": "python3"
  },
  "language_info": {
   "codemirror_mode": {
    "name": "ipython",
    "version": 3
   },
   "file_extension": ".py",
   "mimetype": "text/x-python",
   "name": "python",
   "nbconvert_exporter": "python",
   "pygments_lexer": "ipython3",
   "version": "3.9.13"
  }
 },
 "nbformat": 4,
 "nbformat_minor": 5
}
